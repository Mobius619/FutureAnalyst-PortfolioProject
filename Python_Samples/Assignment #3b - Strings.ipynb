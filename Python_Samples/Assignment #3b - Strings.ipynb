{
 "cells": [
  {
   "cell_type": "code",
   "execution_count": 1,
   "id": "2a1b6d5d",
   "metadata": {},
   "outputs": [
    {
     "name": "stdout",
     "output_type": "stream",
     "text": [
      "Average value read:    0034435.000938901830    \n",
      "0034435.000938901830 <class 'str'>\n",
      "34435.00093890183 <class 'float'>\n"
     ]
    }
   ],
   "source": [
    "# -*- coding: utf-8 -*-\n",
    "\"\"\"\n",
    "Created on Wed Jan 24 16:15:38 2024\n",
    "\n",
    "@author: Ramir Aguilo\n",
    "\"\"\"\n",
    "\n",
    "# Assignment 3b: \"Strings\"\n",
    "# Ramir Aguilo\n",
    "\n",
    "avg_str = 'Average value read:    0034435.000938901830    '\n",
    "\n",
    "print(avg_str)\n",
    "\n",
    "colon_pos = avg_str.find(':')\n",
    "\n",
    "parsed_value = avg_str[colon_pos + 1 : len(avg_str)]\n",
    "\n",
    "parsed_value_stripped = parsed_value.strip()\n",
    "\n",
    "print(parsed_value_stripped + ' ' + str(type(parsed_value)))\n",
    "\n",
    "parsed_value_float = float(parsed_value)\n",
    "\n",
    "print(str(parsed_value_float) + ' ' + str(type(parsed_value_float)))\n",
    "\n",
    "\n",
    "\n",
    "\n",
    "\n",
    "\n",
    "\n",
    "\n",
    "\n"
   ]
  },
  {
   "cell_type": "code",
   "execution_count": null,
   "id": "5a5a08d5",
   "metadata": {},
   "outputs": [],
   "source": []
  }
 ],
 "metadata": {
  "kernelspec": {
   "display_name": "Python 3 (ipykernel)",
   "language": "python",
   "name": "python3"
  },
  "language_info": {
   "codemirror_mode": {
    "name": "ipython",
    "version": 3
   },
   "file_extension": ".py",
   "mimetype": "text/x-python",
   "name": "python",
   "nbconvert_exporter": "python",
   "pygments_lexer": "ipython3",
   "version": "3.11.5"
  }
 },
 "nbformat": 4,
 "nbformat_minor": 5
}
