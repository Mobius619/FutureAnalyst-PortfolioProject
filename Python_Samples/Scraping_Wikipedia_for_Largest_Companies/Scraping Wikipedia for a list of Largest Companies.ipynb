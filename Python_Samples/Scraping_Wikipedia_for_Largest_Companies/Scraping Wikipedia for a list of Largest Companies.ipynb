{
 "cells": [
  {
   "cell_type": "markdown",
   "id": "fe02b948",
   "metadata": {},
   "source": [
    "*Import Modules required for parsing webpage*"
   ]
  },
  {
   "cell_type": "code",
   "execution_count": 1,
   "id": "d1ef3761",
   "metadata": {},
   "outputs": [],
   "source": [
    "from bs4 import BeautifulSoup\n",
    "import requests"
   ]
  },
  {
   "cell_type": "markdown",
   "id": "f25c20a6",
   "metadata": {},
   "source": [
    "*Convert webpage into a Python object to extract the elements that we want*"
   ]
  },
  {
   "cell_type": "code",
   "execution_count": 2,
   "id": "69d8caa4",
   "metadata": {},
   "outputs": [],
   "source": [
    "url = 'https://en.wikipedia.org/wiki/List_of_largest_companies_in_the_United_States_by_revenue'\n",
    "\n",
    "# Pass URL into 'requests' module. Returns a 'request object.'\n",
    "page = requests.get(url)\n",
    "\n"
   ]
  },
  {
   "cell_type": "markdown",
   "id": "3ea7f3f7",
   "metadata": {},
   "source": [
    "*Verify that the 'get' method returned a 'request' object. Then store it into a variable called 'page'.*"
   ]
  },
  {
   "cell_type": "code",
   "execution_count": 3,
   "id": "8d30fdb2",
   "metadata": {},
   "outputs": [
    {
     "name": "stdout",
     "output_type": "stream",
     "text": [
      "<Response [200]>\n"
     ]
    }
   ],
   "source": [
    "print(page)"
   ]
  },
  {
   "cell_type": "markdown",
   "id": "accc84f4",
   "metadata": {},
   "source": [
    "*Pass the 'page' through the Beautiful Soup module 'html' parser method to return a Python object so that we can extract the elements that we want. Then store that Python object into a variable called 'soup.'*"
   ]
  },
  {
   "cell_type": "code",
   "execution_count": 4,
   "id": "0dcfbffa",
   "metadata": {},
   "outputs": [],
   "source": [
    "soup = BeautifulSoup(page.text, 'html')"
   ]
  },
  {
   "cell_type": "markdown",
   "id": "22a02af4",
   "metadata": {},
   "source": [
    "*Find the second table in the list of elements that begin with the 'table' tag. Then store it in an object called 'table.'*"
   ]
  },
  {
   "cell_type": "code",
   "execution_count": 6,
   "id": "63942599",
   "metadata": {},
   "outputs": [],
   "source": [
    "table = soup.find_all('table')[1]"
   ]
  },
  {
   "cell_type": "markdown",
   "id": "e2d56755",
   "metadata": {},
   "source": [
    "*Within the 'table' object return a list of values inside 'th' tags.*"
   ]
  },
  {
   "cell_type": "code",
   "execution_count": 8,
   "id": "89285224",
   "metadata": {},
   "outputs": [],
   "source": [
    "table_headers = table.find_all('th')"
   ]
  },
  {
   "cell_type": "markdown",
   "id": "bd43c98e",
   "metadata": {},
   "source": [
    "*Verify that we have a list of table column headings.*"
   ]
  },
  {
   "cell_type": "code",
   "execution_count": 9,
   "id": "8a75e8b1",
   "metadata": {},
   "outputs": [
    {
     "name": "stdout",
     "output_type": "stream",
     "text": [
      "[<th>Rank\n",
      "</th>, <th>Name\n",
      "</th>, <th>Industry\n",
      "</th>, <th>Revenue <br/>(USD millions)\n",
      "</th>, <th>Revenue growth\n",
      "</th>, <th>Employees\n",
      "</th>, <th>Headquarters\n",
      "</th>]\n"
     ]
    }
   ],
   "source": [
    "print(table_headers)"
   ]
  },
  {
   "cell_type": "markdown",
   "id": "6b821b56",
   "metadata": {},
   "source": [
    "*Loop through list of headers extracting just the text values of each 'th' tag. And, get rid of any unnecessary new line breaks and spaces.*"
   ]
  },
  {
   "cell_type": "code",
   "execution_count": 10,
   "id": "4912ae97",
   "metadata": {},
   "outputs": [],
   "source": [
    "table_headers = [header.text.strip() for header in table_headers]"
   ]
  },
  {
   "cell_type": "markdown",
   "id": "7fb74a2a",
   "metadata": {},
   "source": [
    "*Verify that we have a clean list of the table's column headers.*"
   ]
  },
  {
   "cell_type": "code",
   "execution_count": 11,
   "id": "726fd259",
   "metadata": {},
   "outputs": [
    {
     "name": "stdout",
     "output_type": "stream",
     "text": [
      "['Rank', 'Name', 'Industry', 'Revenue (USD millions)', 'Revenue growth', 'Employees', 'Headquarters']\n"
     ]
    }
   ],
   "source": [
    "print(table_headers)"
   ]
  },
  {
   "cell_type": "code",
   "execution_count": 12,
   "id": "d07dca17",
   "metadata": {},
   "outputs": [],
   "source": [
    "import pandas as pd"
   ]
  },
  {
   "cell_type": "markdown",
   "id": "f0574436",
   "metadata": {},
   "source": [
    "*Insert 'table_headers' into a Pandas dataframe object*"
   ]
  },
  {
   "cell_type": "code",
   "execution_count": 13,
   "id": "5be1e5cc",
   "metadata": {},
   "outputs": [],
   "source": [
    "df = pd.DataFrame(columns = table_headers)"
   ]
  },
  {
   "cell_type": "markdown",
   "id": "90512957",
   "metadata": {},
   "source": [
    "*Verify that 'table_headers' inserted correctly as column headers in dataframe.*"
   ]
  },
  {
   "cell_type": "code",
   "execution_count": 14,
   "id": "bc9bb529",
   "metadata": {},
   "outputs": [
    {
     "data": {
      "text/html": [
       "<div>\n",
       "<style scoped>\n",
       "    .dataframe tbody tr th:only-of-type {\n",
       "        vertical-align: middle;\n",
       "    }\n",
       "\n",
       "    .dataframe tbody tr th {\n",
       "        vertical-align: top;\n",
       "    }\n",
       "\n",
       "    .dataframe thead th {\n",
       "        text-align: right;\n",
       "    }\n",
       "</style>\n",
       "<table border=\"1\" class=\"dataframe\">\n",
       "  <thead>\n",
       "    <tr style=\"text-align: right;\">\n",
       "      <th></th>\n",
       "      <th>Rank</th>\n",
       "      <th>Name</th>\n",
       "      <th>Industry</th>\n",
       "      <th>Revenue (USD millions)</th>\n",
       "      <th>Revenue growth</th>\n",
       "      <th>Employees</th>\n",
       "      <th>Headquarters</th>\n",
       "    </tr>\n",
       "  </thead>\n",
       "  <tbody>\n",
       "  </tbody>\n",
       "</table>\n",
       "</div>"
      ],
      "text/plain": [
       "Empty DataFrame\n",
       "Columns: [Rank, Name, Industry, Revenue (USD millions), Revenue growth, Employees, Headquarters]\n",
       "Index: []"
      ]
     },
     "execution_count": 14,
     "metadata": {},
     "output_type": "execute_result"
    }
   ],
   "source": [
    "df"
   ]
  },
  {
   "cell_type": "markdown",
   "id": "1714dcf4",
   "metadata": {},
   "source": [
    "*Extract the table values enclosed in 'tr' (table row) tags. Then store them in variable called 'column_data.*"
   ]
  },
  {
   "cell_type": "code",
   "execution_count": 15,
   "id": "8d7cd4bb",
   "metadata": {},
   "outputs": [],
   "source": [
    "column_data = table.find_all('tr')"
   ]
  },
  {
   "cell_type": "markdown",
   "id": "23ff33d8",
   "metadata": {},
   "source": [
    "*Loop through the list of row data starting with the second row. Extracting the column value for each row.*"
   ]
  },
  {
   "cell_type": "code",
   "execution_count": 17,
   "id": "8e5ab167",
   "metadata": {},
   "outputs": [],
   "source": [
    "for row in column_data[1:]:\n",
    "    # Column values for each row are enclosed within 'td' tags.\n",
    "    row_data = row.find_all('td')\n",
    "    # Exract the text values from each tag removing unnecessary line breaks and spaces.\n",
    "    individual_row_data = [data.text.strip() for data in row_data]\n",
    "    \n",
    "    # Append new table row to table with each iteration\n",
    "    length = len(df)\n",
    "    df.loc[length] = individual_row_data"
   ]
  },
  {
   "cell_type": "markdown",
   "id": "a2ee9d47",
   "metadata": {},
   "source": [
    "*Verify that we have the table in Pandas dataframe object.*"
   ]
  },
  {
   "cell_type": "code",
   "execution_count": 18,
   "id": "59621ca6",
   "metadata": {},
   "outputs": [
    {
     "data": {
      "text/html": [
       "<div>\n",
       "<style scoped>\n",
       "    .dataframe tbody tr th:only-of-type {\n",
       "        vertical-align: middle;\n",
       "    }\n",
       "\n",
       "    .dataframe tbody tr th {\n",
       "        vertical-align: top;\n",
       "    }\n",
       "\n",
       "    .dataframe thead th {\n",
       "        text-align: right;\n",
       "    }\n",
       "</style>\n",
       "<table border=\"1\" class=\"dataframe\">\n",
       "  <thead>\n",
       "    <tr style=\"text-align: right;\">\n",
       "      <th></th>\n",
       "      <th>Rank</th>\n",
       "      <th>Name</th>\n",
       "      <th>Industry</th>\n",
       "      <th>Revenue (USD millions)</th>\n",
       "      <th>Revenue growth</th>\n",
       "      <th>Employees</th>\n",
       "      <th>Headquarters</th>\n",
       "    </tr>\n",
       "  </thead>\n",
       "  <tbody>\n",
       "    <tr>\n",
       "      <th>0</th>\n",
       "      <td>1</td>\n",
       "      <td>Walmart</td>\n",
       "      <td>Retail</td>\n",
       "      <td>611,289</td>\n",
       "      <td>6.7%</td>\n",
       "      <td>2,100,000</td>\n",
       "      <td>Bentonville, Arkansas</td>\n",
       "    </tr>\n",
       "    <tr>\n",
       "      <th>1</th>\n",
       "      <td>2</td>\n",
       "      <td>Amazon</td>\n",
       "      <td>Retail and cloud computing</td>\n",
       "      <td>513,983</td>\n",
       "      <td>9.4%</td>\n",
       "      <td>1,540,000</td>\n",
       "      <td>Seattle, Washington</td>\n",
       "    </tr>\n",
       "    <tr>\n",
       "      <th>2</th>\n",
       "      <td>3</td>\n",
       "      <td>ExxonMobil</td>\n",
       "      <td>Petroleum industry</td>\n",
       "      <td>413,680</td>\n",
       "      <td>44.8%</td>\n",
       "      <td>62,000</td>\n",
       "      <td>Spring, Texas</td>\n",
       "    </tr>\n",
       "    <tr>\n",
       "      <th>3</th>\n",
       "      <td>4</td>\n",
       "      <td>Apple</td>\n",
       "      <td>Electronics industry</td>\n",
       "      <td>394,328</td>\n",
       "      <td>7.8%</td>\n",
       "      <td>164,000</td>\n",
       "      <td>Cupertino, California</td>\n",
       "    </tr>\n",
       "    <tr>\n",
       "      <th>4</th>\n",
       "      <td>5</td>\n",
       "      <td>UnitedHealth Group</td>\n",
       "      <td>Healthcare</td>\n",
       "      <td>324,162</td>\n",
       "      <td>12.7%</td>\n",
       "      <td>400,000</td>\n",
       "      <td>Minnetonka, Minnesota</td>\n",
       "    </tr>\n",
       "    <tr>\n",
       "      <th>...</th>\n",
       "      <td>...</td>\n",
       "      <td>...</td>\n",
       "      <td>...</td>\n",
       "      <td>...</td>\n",
       "      <td>...</td>\n",
       "      <td>...</td>\n",
       "      <td>...</td>\n",
       "    </tr>\n",
       "    <tr>\n",
       "      <th>95</th>\n",
       "      <td>96</td>\n",
       "      <td>Best Buy</td>\n",
       "      <td>Retail</td>\n",
       "      <td>46,298</td>\n",
       "      <td>10.6%</td>\n",
       "      <td>71,100</td>\n",
       "      <td>Richfield, Minnesota</td>\n",
       "    </tr>\n",
       "    <tr>\n",
       "      <th>96</th>\n",
       "      <td>97</td>\n",
       "      <td>Bristol-Myers Squibb</td>\n",
       "      <td>Pharmaceutical industry</td>\n",
       "      <td>46,159</td>\n",
       "      <td>0.5%</td>\n",
       "      <td>34,300</td>\n",
       "      <td>New York City, New York</td>\n",
       "    </tr>\n",
       "    <tr>\n",
       "      <th>97</th>\n",
       "      <td>98</td>\n",
       "      <td>United Airlines</td>\n",
       "      <td>Airline</td>\n",
       "      <td>44,955</td>\n",
       "      <td>82.5%</td>\n",
       "      <td>92,795</td>\n",
       "      <td>Chicago, Illinois</td>\n",
       "    </tr>\n",
       "    <tr>\n",
       "      <th>98</th>\n",
       "      <td>99</td>\n",
       "      <td>Thermo Fisher Scientific</td>\n",
       "      <td>Laboratory instruments</td>\n",
       "      <td>44,915</td>\n",
       "      <td>14.5%</td>\n",
       "      <td>130,000</td>\n",
       "      <td>Waltham, Massachusetts</td>\n",
       "    </tr>\n",
       "    <tr>\n",
       "      <th>99</th>\n",
       "      <td>100</td>\n",
       "      <td>Qualcomm</td>\n",
       "      <td>Technology</td>\n",
       "      <td>44,200</td>\n",
       "      <td>31.7%</td>\n",
       "      <td>51,000</td>\n",
       "      <td>San Diego, California</td>\n",
       "    </tr>\n",
       "  </tbody>\n",
       "</table>\n",
       "<p>100 rows × 7 columns</p>\n",
       "</div>"
      ],
      "text/plain": [
       "   Rank                      Name                    Industry  \\\n",
       "0     1                   Walmart                      Retail   \n",
       "1     2                    Amazon  Retail and cloud computing   \n",
       "2     3                ExxonMobil          Petroleum industry   \n",
       "3     4                     Apple        Electronics industry   \n",
       "4     5        UnitedHealth Group                  Healthcare   \n",
       "..  ...                       ...                         ...   \n",
       "95   96                  Best Buy                      Retail   \n",
       "96   97      Bristol-Myers Squibb     Pharmaceutical industry   \n",
       "97   98           United Airlines                     Airline   \n",
       "98   99  Thermo Fisher Scientific      Laboratory instruments   \n",
       "99  100                  Qualcomm                  Technology   \n",
       "\n",
       "   Revenue (USD millions) Revenue growth  Employees             Headquarters  \n",
       "0                 611,289           6.7%  2,100,000    Bentonville, Arkansas  \n",
       "1                 513,983           9.4%  1,540,000      Seattle, Washington  \n",
       "2                 413,680          44.8%     62,000            Spring, Texas  \n",
       "3                 394,328           7.8%    164,000    Cupertino, California  \n",
       "4                 324,162          12.7%    400,000    Minnetonka, Minnesota  \n",
       "..                    ...            ...        ...                      ...  \n",
       "95                 46,298          10.6%     71,100     Richfield, Minnesota  \n",
       "96                 46,159           0.5%     34,300  New York City, New York  \n",
       "97                 44,955          82.5%     92,795        Chicago, Illinois  \n",
       "98                 44,915          14.5%    130,000   Waltham, Massachusetts  \n",
       "99                 44,200          31.7%     51,000    San Diego, California  \n",
       "\n",
       "[100 rows x 7 columns]"
      ]
     },
     "execution_count": 18,
     "metadata": {},
     "output_type": "execute_result"
    }
   ],
   "source": [
    "df"
   ]
  },
  {
   "cell_type": "markdown",
   "id": "e5131dee",
   "metadata": {},
   "source": [
    "*Export table to a spreadsheet format for collaboration and updating.*"
   ]
  },
  {
   "cell_type": "code",
   "execution_count": 19,
   "id": "57b18648",
   "metadata": {},
   "outputs": [],
   "source": [
    "df.to_csv(r'C:\\Users\\ramir\\Companies.csv', index = False)"
   ]
  }
 ],
 "metadata": {
  "kernelspec": {
   "display_name": "Python 3 (ipykernel)",
   "language": "python",
   "name": "python3"
  },
  "language_info": {
   "codemirror_mode": {
    "name": "ipython",
    "version": 3
   },
   "file_extension": ".py",
   "mimetype": "text/x-python",
   "name": "python",
   "nbconvert_exporter": "python",
   "pygments_lexer": "ipython3",
   "version": "3.11.5"
  }
 },
 "nbformat": 4,
 "nbformat_minor": 5
}
