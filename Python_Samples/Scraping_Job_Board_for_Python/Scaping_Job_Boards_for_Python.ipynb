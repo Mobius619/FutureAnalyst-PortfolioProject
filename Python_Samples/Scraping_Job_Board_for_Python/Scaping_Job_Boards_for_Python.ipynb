{
 "cells": [
  {
   "cell_type": "markdown",
   "id": "089ab579",
   "metadata": {},
   "source": [
    "**Scraping Job Boards for Python Jobs**"
   ]
  },
  {
   "cell_type": "markdown",
   "id": "591f9b76",
   "metadata": {},
   "source": [
    "*Import Modules for Parsing HTML*"
   ]
  },
  {
   "cell_type": "code",
   "execution_count": 1,
   "id": "99ff6a8b",
   "metadata": {},
   "outputs": [],
   "source": [
    "from bs4 import BeautifulSoup\n",
    "import requests\n",
    "import time"
   ]
  },
  {
   "cell_type": "markdown",
   "id": "100e8030",
   "metadata": {},
   "source": [
    "*Prompt user to enter a skill that he or she is not familiar with.*"
   ]
  },
  {
   "cell_type": "code",
   "execution_count": null,
   "id": "3cb7a4c2",
   "metadata": {},
   "outputs": [],
   "source": [
    "print('Please enter a skill that you are not familiar with:')\n",
    "unfamiliar_skill = input('>')\n",
    "print(f'Filtering out {unfamiliar_skill}')"
   ]
  },
  {
   "cell_type": "markdown",
   "id": "3f48438c",
   "metadata": {},
   "source": [
    "*Convert web page into a Python object to extract the elements that we want in the form of a list.*"
   ]
  },
  {
   "cell_type": "code",
   "execution_count": null,
   "id": "aa8065bc",
   "metadata": {},
   "outputs": [],
   "source": [
    "def find_jobs():\n",
    "\n",
    "    html_text = requests.get('https://www.timesjobs.com/candidate/job-search.html?searchType=personalizedSearch&from=submit&searchTextSrc=&searchTextText=&txtKeywords=python&txtLocation=&cboWorkExp1=0').text\n",
    "    soup = BeautifulSoup(html_text, 'lxml')\n",
    "    jobs = soup.find_all('li', class_ = 'clearfix job-bx wht-shd-bx')"
   ]
  },
  {
   "cell_type": "markdown",
   "id": "60647be3",
   "metadata": {},
   "source": [
    "*Iterate through the list of jobs indexing each of them.*"
   ]
  },
  {
   "cell_type": "code",
   "execution_count": null,
   "id": "337d540e",
   "metadata": {},
   "outputs": [],
   "source": [
    "    for index, job in enumerate(jobs):\n",
    "            published_date = job.find('span', class_ = 'sim-posted').text\n",
    "            # Filter out jobs that were published a long time ago.\n",
    "            if 'few' in published_date:\n",
    "                # Index into list of jobs using tag names to extract associated values.\n",
    "                company_name = job.find('h3', class_ = 'joblist-comp-name').text.replace(' ','')\n",
    "                skills = job.find('span', class_ = 'srp-skills').text.replace(' ', '')   \n",
    "                more_info = job.header.h2.a['href']\n",
    "                # Filter out jobs that require skills that user doesn't have.\n",
    "                if unfamiliar_skill not in skills:\n",
    "                    # Save our jobs into a text file.\n",
    "                    with open(f'posts/{index}.txt', 'w') as file:\n",
    "                        file.write(f'Company Name: {company_name.strip()} \\n')\n",
    "                        file.write(f'Required Skills: {skills.strip()} \\n')\n",
    "                        file.write(f'More Info: {more_info}')\n",
    "                    print(f'File saved: {index}')"
   ]
  },
  {
   "cell_type": "markdown",
   "id": "9571140e",
   "metadata": {},
   "source": [
    "*From the system command line automatically execute our jobs function every 10 minutes indefinitely.*"
   ]
  },
  {
   "cell_type": "code",
   "execution_count": null,
   "id": "21ded7b7",
   "metadata": {},
   "outputs": [],
   "source": [
    "if __name__ == '__main__':\n",
    "    while True:\n",
    "        find_jobs()\n",
    "        time_wait = 10\n",
    "        print(f'Waiting {time_wait} minutes...')\n",
    "        time.sleep(time_wait * 60)"
   ]
  }
 ],
 "metadata": {
  "kernelspec": {
   "display_name": "Python 3 (ipykernel)",
   "language": "python",
   "name": "python3"
  },
  "language_info": {
   "codemirror_mode": {
    "name": "ipython",
    "version": 3
   },
   "file_extension": ".py",
   "mimetype": "text/x-python",
   "name": "python",
   "nbconvert_exporter": "python",
   "pygments_lexer": "ipython3",
   "version": "3.11.5"
  }
 },
 "nbformat": 4,
 "nbformat_minor": 5
}
