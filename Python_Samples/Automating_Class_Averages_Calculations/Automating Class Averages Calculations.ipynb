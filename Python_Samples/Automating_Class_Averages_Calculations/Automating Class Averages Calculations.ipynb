{
 "cells": [
  {
   "cell_type": "markdown",
   "id": "4951a5ba",
   "metadata": {},
   "source": [
    "**This program automates the process of computing average grades.**"
   ]
  },
  {
   "cell_type": "markdown",
   "id": "088f08e6",
   "metadata": {},
   "source": [
    "*Use case: A scenario in which the user needs to extract raw data of student 'grades'\n",
    "from a webpage, compute the class 'averages' for each subject, then save the data into an Excel spreadsheet.*"
   ]
  },
  {
   "cell_type": "markdown",
   "id": "b26d0b9e",
   "metadata": {},
   "source": [
    "*Import the necessary 'classes' and 'functions' needed to complete task.*"
   ]
  },
  {
   "cell_type": "code",
   "execution_count": 14,
   "id": "8de15a63",
   "metadata": {},
   "outputs": [],
   "source": [
    "from openpyxl import Workbook, load_workbook\n",
    "from openpyxl.utils import get_column_letter\n",
    "from openpyxl.styles import Font"
   ]
  },
  {
   "cell_type": "markdown",
   "id": "e75fb3d6",
   "metadata": {},
   "source": [
    "*This is the raw data in JSON format extracted from a webpage.*"
   ]
  },
  {
   "cell_type": "code",
   "execution_count": 2,
   "id": "a73bea97",
   "metadata": {},
   "outputs": [],
   "source": [
    "data = {\n",
    "\t\"Joe\": {\n",
    "\t\t\"Math\": 65,\n",
    "\t\t\"Science\": 78,\n",
    "\t\t\"English\": 98,\n",
    "\t\t\"Gym\": 89\n",
    "\t},\n",
    "\t\"Bill\": {\n",
    "\t\t\"Math\": 55,\n",
    "\t\t\"Science\": 72,\n",
    "\t\t\"English\": 87,\n",
    "\t\t\"Gym\": 95\n",
    "\t},\n",
    "\t\"Tim\": {\n",
    "\t\t\"Math\": 100,\n",
    "\t\t\"Science\": 45,\n",
    "\t\t\"English\": 75,\n",
    "\t\t\"Gym\": 92\n",
    "\t},\n",
    "\t\"Sally\": {\n",
    "\t\t\"Math\": 30,\n",
    "\t\t\"Science\": 25,\n",
    "\t\t\"English\": 45,\n",
    "\t\t\"Gym\": 100\n",
    "\t},\n",
    "\t\"Jane\": {\n",
    "\t\t\"Math\": 100,\n",
    "\t\t\"Science\": 100,\n",
    "\t\t\"English\": 100,\n",
    "\t\t\"Gym\": 60\n",
    "\t}\n",
    "}"
   ]
  },
  {
   "cell_type": "markdown",
   "id": "6269e7db",
   "metadata": {},
   "source": [
    "*Instantiate 'Workbook' and 'Worksheet' objects.*"
   ]
  },
  {
   "cell_type": "code",
   "execution_count": 3,
   "id": "29a3a8ca",
   "metadata": {},
   "outputs": [],
   "source": [
    "wb = Workbook()\n",
    "ws = wb.active\n",
    "ws.title = 'Grades'"
   ]
  },
  {
   "cell_type": "markdown",
   "id": "e671ec1b",
   "metadata": {},
   "source": [
    "*Index into the 'data' dictionary extracting the values for the 'keys.' Convert the dictionary to a list then concatenate that list to 'Name' to create header.* "
   ]
  },
  {
   "cell_type": "code",
   "execution_count": 4,
   "id": "e153ac23",
   "metadata": {},
   "outputs": [],
   "source": [
    "header = ['Name'] + list(data['Joe'].keys())\n",
    "ws.append(header)"
   ]
  },
  {
   "cell_type": "markdown",
   "id": "374079db",
   "metadata": {},
   "source": [
    "*Loop through 'data' dictionary creating a unique row of each student's name \n",
    "and associated grades with each iteration.*"
   ]
  },
  {
   "cell_type": "code",
   "execution_count": 5,
   "id": "141c62d1",
   "metadata": {},
   "outputs": [],
   "source": [
    "for student in data:\n",
    "    grades = [student] + list(data[student].values())\n",
    "    ws.append(grades)"
   ]
  },
  {
   "cell_type": "markdown",
   "id": "af567b4f",
   "metadata": {},
   "source": [
    "*Average grades for each subject by looping through each column.*"
   ]
  },
  {
   "cell_type": "code",
   "execution_count": 6,
   "id": "2c00b379",
   "metadata": {},
   "outputs": [],
   "source": [
    "for col in range(2, len(data['Bill']) + 2):\n",
    "\tchar = get_column_letter(col)\n",
    "\tws[char + \"7\"] = f\"=SUM({char + '2'}:{char + '6'})/{len(data)}\""
   ]
  },
  {
   "cell_type": "markdown",
   "id": "6e96af5f",
   "metadata": {},
   "source": [
    "*Format the header to bold and change the color to blue.*"
   ]
  },
  {
   "cell_type": "code",
   "execution_count": 7,
   "id": "397ee02e",
   "metadata": {},
   "outputs": [],
   "source": [
    "for col in range(1, 6):\n",
    "    ws[get_column_letter(col) + '1'].font = Font(bold='True', color='00000080')"
   ]
  },
  {
   "cell_type": "markdown",
   "id": "71f0fab0",
   "metadata": {},
   "source": [
    "*Add a title for 'Averages.'*"
   ]
  },
  {
   "cell_type": "code",
   "execution_count": 8,
   "id": "fbc76609",
   "metadata": {},
   "outputs": [],
   "source": [
    "ws['A' + f\"{len(data) + 2}\"] = 'Averages'\n",
    "ws['A' + f\"{len(data) + 2}\"].font = Font(bold='True', color='00FF0000')"
   ]
  },
  {
   "cell_type": "markdown",
   "id": "addc7543",
   "metadata": {},
   "source": [
    "*Save your changes to the spreadsheet.*"
   ]
  },
  {
   "cell_type": "code",
   "execution_count": 10,
   "id": "5b247e25",
   "metadata": {},
   "outputs": [],
   "source": [
    "wb.save('New_Grades.xlsx')"
   ]
  }
 ],
 "metadata": {
  "kernelspec": {
   "display_name": "Python 3 (ipykernel)",
   "language": "python",
   "name": "python3"
  },
  "language_info": {
   "codemirror_mode": {
    "name": "ipython",
    "version": 3
   },
   "file_extension": ".py",
   "mimetype": "text/x-python",
   "name": "python",
   "nbconvert_exporter": "python",
   "pygments_lexer": "ipython3",
   "version": "3.11.7"
  }
 },
 "nbformat": 4,
 "nbformat_minor": 5
}
