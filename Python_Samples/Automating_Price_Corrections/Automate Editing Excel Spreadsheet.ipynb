{
 "cells": [
  {
   "cell_type": "markdown",
   "id": "ba5385b6",
   "metadata": {},
   "source": [
    "**This program automates changing the prices in a worksheet.**"
   ]
  },
  {
   "cell_type": "markdown",
   "id": "a55d6542",
   "metadata": {},
   "source": [
    "*Use case: A scenario in which a user accidently entered the price (including tax) for thousands of items in a spreadsheet.\n",
    "Instead of manually correcting the prices for each of the items, this program can be run to reduce the price of each item by 8% (the sales tax) in a manner of seconds.  Additionaly, this program adds a bar chart to visualize the data.* "
   ]
  },
  {
   "cell_type": "markdown",
   "id": "87aabacc",
   "metadata": {},
   "source": [
    "*From the 'chart' module in the 'openpyxl' package import the 'BarChart' and 'Reference' classes needed to contruct the bar chart.*"
   ]
  },
  {
   "cell_type": "code",
   "execution_count": 1,
   "id": "2f683c38",
   "metadata": {},
   "outputs": [],
   "source": [
    "import openpyxl as xl\n",
    "from openpyxl.chart import BarChart, Reference"
   ]
  },
  {
   "cell_type": "markdown",
   "id": "08bfe9e1",
   "metadata": {},
   "source": [
    "*Instantiate 'workbook' and 'sheet' objects.*"
   ]
  },
  {
   "cell_type": "code",
   "execution_count": 2,
   "id": "5f873561",
   "metadata": {},
   "outputs": [],
   "source": [
    "wb = xl.load_workbook('transactions.xlsx')\n",
    "sheet = wb['Sheet1']"
   ]
  },
  {
   "cell_type": "markdown",
   "id": "d0dbc6c6",
   "metadata": {},
   "source": [
    "*Loop through the third column, reduce each price by 8%, then enter new price in fourth column.*"
   ]
  },
  {
   "cell_type": "code",
   "execution_count": 3,
   "id": "0b98515d",
   "metadata": {},
   "outputs": [],
   "source": [
    "for row in range(2, sheet.max_row + 1):\n",
    "    cell = sheet.cell(row, 3)\n",
    "    corrected_price = cell.value * .92\n",
    "    corrected_price_cell = sheet.cell(row, 4)\n",
    "    corrected_price_cell.value = corrected_price"
   ]
  },
  {
   "cell_type": "markdown",
   "id": "1676eb0a",
   "metadata": {},
   "source": [
    "*Instantiate a 'Reference' object that contains the corrected values in the fourth column.*"
   ]
  },
  {
   "cell_type": "code",
   "execution_count": 4,
   "id": "ed57eb8c",
   "metadata": {},
   "outputs": [],
   "source": [
    "values = Reference(sheet, \n",
    "                   min_row=2,\n",
    "                   max_row=sheet.max_row,\n",
    "                   min_col=4,\n",
    "                   max_col=4)"
   ]
  },
  {
   "cell_type": "markdown",
   "id": "e56e72fb",
   "metadata": {},
   "source": [
    "*Use a constructor to instantiate a 'chart' object, pass the 'values' to the chart, then add the chart to the sheet.*"
   ]
  },
  {
   "cell_type": "code",
   "execution_count": 5,
   "id": "4a068847",
   "metadata": {},
   "outputs": [],
   "source": [
    "chart = BarChart()\n",
    "chart.add_data(values)\n",
    "sheet = sheet.add_chart(chart,'e2')"
   ]
  },
  {
   "cell_type": "markdown",
   "id": "b0a5b04d",
   "metadata": {},
   "source": [
    "*Save your changes to the spreadsheet - over writing the original file.*"
   ]
  },
  {
   "cell_type": "code",
   "execution_count": 6,
   "id": "777817a3",
   "metadata": {},
   "outputs": [],
   "source": [
    "wb = wb.save('transactions.xlsx')"
   ]
  },
  {
   "cell_type": "markdown",
   "id": "ecd9ec22",
   "metadata": {},
   "source": [
    "*For reusibility with many different files, wrap the above statements in a function with the 'filename' parameter.*"
   ]
  },
  {
   "cell_type": "code",
   "execution_count": null,
   "id": "e65212f9",
   "metadata": {},
   "outputs": [],
   "source": [
    "def process_workbook(filename):\n",
    "    wb = xl.load_workbook('filename.xlsx')\n",
    "    sheet = wb['Sheet1']\n",
    "    \n",
    "    for row in range(2, sheet.max_row + 1):\n",
    "    cell = sheet.cell(row, 3)\n",
    "    corrected_price = cell.value * .92\n",
    "    corrected_price_cell = sheet.cell(row, 4)\n",
    "    corrected_price_cell.value = corrected_price\n",
    "    \n",
    "    values = Reference(sheet, \n",
    "                   min_row=2,\n",
    "                   max_row=sheet.max_row,\n",
    "                   min_col=4,\n",
    "                   max_col=4)\n",
    "    \n",
    "    \n",
    "    chart = BarChart()\n",
    "    chart.add_data(values)\n",
    "    sheet = sheet.add_chart(chart,'e2')\n",
    "    \n",
    "    wb = wb.save('filename.xlsx')"
   ]
  }
 ],
 "metadata": {
  "kernelspec": {
   "display_name": "Python 3 (ipykernel)",
   "language": "python",
   "name": "python3"
  },
  "language_info": {
   "codemirror_mode": {
    "name": "ipython",
    "version": 3
   },
   "file_extension": ".py",
   "mimetype": "text/x-python",
   "name": "python",
   "nbconvert_exporter": "python",
   "pygments_lexer": "ipython3",
   "version": "3.11.7"
  }
 },
 "nbformat": 4,
 "nbformat_minor": 5
}
