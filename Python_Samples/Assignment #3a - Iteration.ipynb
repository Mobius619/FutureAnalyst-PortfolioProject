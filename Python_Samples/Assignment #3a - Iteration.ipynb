{
 "cells": [
  {
   "cell_type": "code",
   "execution_count": 1,
   "id": "9aa90bc1",
   "metadata": {},
   "outputs": [
    {
     "name": "stdout",
     "output_type": "stream",
     "text": [
      "Please enter a number.  Type 'done' when finished. \n",
      "34.6786\n",
      "Please enter a number.  Type 'done' when finished. \n",
      "-456.00032\n",
      "Please enter a number.  Type 'done' when finished. \n",
      ".000334\n",
      "Please enter a number.  Type 'done' when finished. \n",
      "0.00284\n",
      "Please enter a number.  Type 'done' when finished. \n",
      "-934342\n",
      "Please enter a number.  Type 'done' when finished. \n",
      "done\n",
      "\n",
      "\n",
      "The count is 5\n",
      "The total is -934763.318546\n",
      "The average is -186952.66370920002\n",
      "The maximum is 34.6786\n",
      "The minimum is -934342.0\n"
     ]
    }
   ],
   "source": [
    "# -*- coding: utf-8 -*-\n",
    "\"\"\"\n",
    "Created on Tue Jan 23 11:03:25 2024\n",
    "\n",
    "@author: Ramir Aguilo\n",
    "\"\"\"\n",
    "\n",
    "# Assignment #3a: \"Iteration\"\n",
    "# Ramir Aguilo\n",
    "\n",
    "# Initialize all the variables before entering loop\n",
    "total = 0\n",
    "count = 0\n",
    "average = 0\n",
    "maximum = None\n",
    "minimum = None\n",
    "cur_num = \"\"\n",
    "prompt = \"Please enter a number.  Type 'done' when finished. \\n\"\n",
    "\n",
    "# Reassign values to \"maximum\" and \"minumum\" variables \n",
    "# depending on the user input.\n",
    "# If user enters 'done' then \"print out\" of loop\n",
    "# the current values\n",
    "\n",
    "while cur_num != 'done':\n",
    "    cur_num = input(prompt)\n",
    "    if cur_num == 'done':\n",
    "        continue\n",
    "    cur_num = float(cur_num)\n",
    "    if maximum is None or cur_num > maximum:\n",
    "        maximum = cur_num\n",
    "    if minimum is None or cur_num < minimum:\n",
    "        minimum = cur_num\n",
    "    total = total + float(cur_num)\n",
    "    count += 1\n",
    "    average = total / float(count)\n",
    "    \n",
    "       \n",
    "# Now that the desired operations have been performed on\n",
    "# the numbers entered print them out.\n",
    "\n",
    "print('\\n')\n",
    "print('The count is ' + str(count))\n",
    "print('The total is ' + str(total))\n",
    "print('The average is ' + str(average))\n",
    "print('The maximum is ' + str(maximum))\n",
    "print('The minimum is ' + str(minimum))\n",
    "\n"
   ]
  },
  {
   "cell_type": "code",
   "execution_count": null,
   "id": "fde19f37",
   "metadata": {},
   "outputs": [],
   "source": []
  }
 ],
 "metadata": {
  "kernelspec": {
   "display_name": "Python 3 (ipykernel)",
   "language": "python",
   "name": "python3"
  },
  "language_info": {
   "codemirror_mode": {
    "name": "ipython",
    "version": 3
   },
   "file_extension": ".py",
   "mimetype": "text/x-python",
   "name": "python",
   "nbconvert_exporter": "python",
   "pygments_lexer": "ipython3",
   "version": "3.11.5"
  }
 },
 "nbformat": 4,
 "nbformat_minor": 5
}
