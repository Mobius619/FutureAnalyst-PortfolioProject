{
 "cells": [
  {
   "cell_type": "code",
   "execution_count": 1,
   "id": "1e7c26bb",
   "metadata": {},
   "outputs": [
    {
     "name": "stdout",
     "output_type": "stream",
     "text": [
      "The person with the highest number of sent messages is\n",
      "stephen.marquard@uct.ac.za\n",
      "with 1797 messages!\n"
     ]
    }
   ],
   "source": [
    "# -*- coding: utf-8 -*-\n",
    "\"\"\"\n",
    "Created on Fri Feb  9 08:48:52 2024\n",
    "\n",
    "@author: Ramir Aguilo\n",
    "\"\"\"\n",
    "# Assignment #5: \"Message Frequency Count\"\n",
    "# Ramir Aguilo\n",
    "\n",
    "# Initialize empty dictionary to be populated with email counts later on\n",
    "email_counts = dict()\n",
    "\n",
    "# Initialize empty set to cross reference to avoid duplicate emails\n",
    "unique_addresses = set()\n",
    "\n",
    "# Read through the mailbox data\n",
    "file_handle = open('mbox.txt')   \n",
    "\n",
    "for line in file_handle:\n",
    "    \n",
    "    # Skip lines that don't begin with 'From'\n",
    "    if not line.startswith('From: '): continue\n",
    "    \n",
    "    # Extract email address from the line\n",
    "    from_address = line.split(' ')[1]\n",
    "    \n",
    "    # Create a set of unique email addresses to avoid duplicate emails\n",
    "    if from_address not in unique_addresses:\n",
    "        unique_addresses.add(from_address)\n",
    "        \n",
    "    # Count number of unique email occurences\n",
    "    for unique_from_addresses in unique_addresses:\n",
    "        if unique_from_addresses not in email_counts:\n",
    "            email_counts[unique_from_addresses] = 1\n",
    "        else:\n",
    "            email_counts[unique_from_addresses] +=1\n",
    "\n",
    "\n",
    "# Initialize an empty list which we are going to populate with a sequence\n",
    "# of tuples\n",
    "list_of_tuples = list()\n",
    "\n",
    "# This is the 'Decorate' part of DSU. Create a 'list' of 'tuples(count, email)'\n",
    "# from the dictionary. Tuples contain one or more sort keys that serve as a\n",
    "# basis for sorting. In this particular case, we will sort by email counts.\n",
    "list_of_tuples = [(value, key) for key, value in email_counts.items()]\n",
    "    \n",
    "# This is the 'Sort' part of DSU. Sort the list in ascending order since we\n",
    "# want the person who sent the highest number of messages\n",
    "list_of_tuples.sort(reverse=True)\n",
    "\n",
    "# This is the 'Undecorate' part of DSU. Extract the value elements of DSU.\n",
    "# In other words, print out the person who has the highest number of messages.\n",
    "\n",
    "# Access the first tuple\n",
    "first_pair = list_of_tuples[0]\n",
    "\n",
    "# Print the key and value separately\n",
    "first_key, first_value = first_pair\n",
    "print(f\"The person with the highest number of sent messages is\\n{first_value}with {first_key} messages!\")\n",
    "\n",
    "\n",
    "   \n",
    "    \n",
    "        "
   ]
  },
  {
   "cell_type": "code",
   "execution_count": null,
   "id": "d35fa875",
   "metadata": {},
   "outputs": [],
   "source": []
  }
 ],
 "metadata": {
  "kernelspec": {
   "display_name": "Python 3 (ipykernel)",
   "language": "python",
   "name": "python3"
  },
  "language_info": {
   "codemirror_mode": {
    "name": "ipython",
    "version": 3
   },
   "file_extension": ".py",
   "mimetype": "text/x-python",
   "name": "python",
   "nbconvert_exporter": "python",
   "pygments_lexer": "ipython3",
   "version": "3.11.5"
  }
 },
 "nbformat": 4,
 "nbformat_minor": 5
}
