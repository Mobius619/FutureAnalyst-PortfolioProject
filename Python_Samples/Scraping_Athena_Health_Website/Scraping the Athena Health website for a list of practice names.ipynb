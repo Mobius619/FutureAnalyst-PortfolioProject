{
 "cells": [
  {
   "cell_type": "code",
   "execution_count": 1,
   "id": "22bf1add",
   "metadata": {},
   "outputs": [],
   "source": [
    "import requests\n",
    "from bs4 import BeautifulSoup"
   ]
  },
  {
   "cell_type": "code",
   "execution_count": 2,
   "id": "7f14c537",
   "metadata": {},
   "outputs": [],
   "source": [
    "url = 'https://12695.portal.athenahealth.com/'"
   ]
  },
  {
   "cell_type": "code",
   "execution_count": 3,
   "id": "83a81ecf",
   "metadata": {},
   "outputs": [],
   "source": [
    "response = requests.get(url)"
   ]
  },
  {
   "cell_type": "code",
   "execution_count": 4,
   "id": "b81a6300",
   "metadata": {},
   "outputs": [],
   "source": [
    "html = response.text"
   ]
  },
  {
   "cell_type": "code",
   "execution_count": 5,
   "id": "8986fd27",
   "metadata": {},
   "outputs": [],
   "source": [
    "soup = BeautifulSoup(html, 'html.parser')"
   ]
  },
  {
   "cell_type": "markdown",
   "id": "dfdac53d",
   "metadata": {},
   "source": [
    "*List all the 'h1' tag elements.*"
   ]
  },
  {
   "cell_type": "code",
   "execution_count": 6,
   "id": "7e316be4",
   "metadata": {},
   "outputs": [
    {
     "data": {
      "text/plain": [
       "[<h1 class=\"fe_c_heading fe_c_heading--section supported_browser_centered_block\" id=\"fe-lightbox-labeledby-gen-1\">Please update your browser</h1>,\n",
       " <h1>Welcome to the Dr. Richard Handelsman \n",
       " \t\t\tPatient Information Center</h1>,\n",
       " <h1 align=\"center\">\n",
       " Dr. Richard Handelsman</h1>]"
      ]
     },
     "execution_count": 6,
     "metadata": {},
     "output_type": "execute_result"
    }
   ],
   "source": [
    "soup.find_all('h1')"
   ]
  },
  {
   "cell_type": "markdown",
   "id": "ff25c4d0",
   "metadata": {},
   "source": [
    "*Extract the text value of the last 'h1' tag of the list.*"
   ]
  },
  {
   "cell_type": "code",
   "execution_count": 7,
   "id": "6f44cb78",
   "metadata": {},
   "outputs": [
    {
     "data": {
      "text/plain": [
       "'Dr. Richard Handelsman'"
      ]
     },
     "execution_count": 7,
     "metadata": {},
     "output_type": "execute_result"
    }
   ],
   "source": [
    "soup.find_all('h1')[-1].text.strip()"
   ]
  },
  {
   "cell_type": "markdown",
   "id": "075be33d",
   "metadata": {},
   "source": [
    "*For reuse, wrap all preceding python statements into a function that passes in a 'clinic id' as an argument and returns a 'clinic name.'*"
   ]
  },
  {
   "cell_type": "code",
   "execution_count": 8,
   "id": "133bc1af",
   "metadata": {},
   "outputs": [],
   "source": [
    "def  get_clinic_name(clinic_id):\n",
    "\n",
    "    url = f'https://{clinic_id}.portal.athenahealth.com/'\n",
    "    response = requests.get(url)\n",
    "    html = response.text\n",
    "    soup = BeautifulSoup(html, 'html.parser')\n",
    "    clinic_name = soup.find_all('h1')[-1].text.strip()\n",
    "    \n",
    "    return clinic_name"
   ]
  },
  {
   "cell_type": "markdown",
   "id": "ba9590d2",
   "metadata": {},
   "source": [
    "*Test function.*"
   ]
  },
  {
   "cell_type": "code",
   "execution_count": 9,
   "id": "3cb45b7c",
   "metadata": {},
   "outputs": [
    {
     "data": {
      "text/plain": [
       "'Dr. Richard Handelsman'"
      ]
     },
     "execution_count": 9,
     "metadata": {},
     "output_type": "execute_result"
    }
   ],
   "source": [
    "get_clinic_name(12695)"
   ]
  },
  {
   "cell_type": "markdown",
   "id": "f58232ec",
   "metadata": {},
   "source": [
    "*Create a counter of clinic id's*"
   ]
  },
  {
   "cell_type": "code",
   "execution_count": 10,
   "id": "149b658c",
   "metadata": {},
   "outputs": [],
   "source": [
    "start = 12690\n",
    "end = 12700 "
   ]
  },
  {
   "cell_type": "markdown",
   "id": "e01c9b01",
   "metadata": {},
   "source": [
    "*Initialize a master list that will eventually contain the practice id's with associated names.*"
   ]
  },
  {
   "cell_type": "code",
   "execution_count": 11,
   "id": "b6cd82eb",
   "metadata": {},
   "outputs": [],
   "source": [
    "master_list = []"
   ]
  },
  {
   "cell_type": "code",
   "execution_count": 12,
   "id": "66f3ecfe",
   "metadata": {},
   "outputs": [
    {
     "data": {
      "text/plain": [
       "[]"
      ]
     },
     "execution_count": 12,
     "metadata": {},
     "output_type": "execute_result"
    }
   ],
   "source": [
    "master_list "
   ]
  },
  {
   "cell_type": "markdown",
   "id": "4c4cab47",
   "metadata": {},
   "source": [
    "*Loop through the counter storing the clinic id's and associated name as a list of key-value pairs.*"
   ]
  },
  {
   "cell_type": "code",
   "execution_count": 13,
   "id": "96440219",
   "metadata": {},
   "outputs": [
    {
     "name": "stdout",
     "output_type": "stream",
     "text": [
      "12690\n",
      "12691\n",
      "12692\n",
      "12693\n",
      "12694\n",
      "12695\n",
      "12696\n",
      "12697\n",
      "12698\n",
      "12699\n",
      "12700\n"
     ]
    }
   ],
   "source": [
    "for clinic_id in range(start, end + 1):\n",
    "    # Initialize a dictionary\n",
    "    data_dict = {}\n",
    "    # Assign values to the keys\n",
    "    data_dict['clinic_id'] = clinic_id\n",
    "    data_dict['clinic_name'] = get_clinic_name(clinic_id)\n",
    "    # Add the dictionary to the list if both erroneous conditions are not met\n",
    "    if data_dict['clinic_name'] != 'Payment Confirmation' and data_dict['clinic_name'] != \"Sorry, we can't find that practice. Make sure you typed the right address.\":\n",
    "        master_list.append(data_dict)\n",
    "    \n",
    "    print(clinic_id)"
   ]
  },
  {
   "cell_type": "markdown",
   "id": "c359a52e",
   "metadata": {},
   "source": [
    "*Verify that we have a master list with the correct clinic id's and associated names.*"
   ]
  },
  {
   "cell_type": "code",
   "execution_count": 14,
   "id": "762d809a",
   "metadata": {},
   "outputs": [
    {
     "data": {
      "text/plain": [
       "[{'clinic_id': 12693, 'clinic_name': 'Altamonte Family Practice'},\n",
       " {'clinic_id': 12694, 'clinic_name': 'Open Health Care Clinic'},\n",
       " {'clinic_id': 12695, 'clinic_name': 'Dr. Richard Handelsman'},\n",
       " {'clinic_id': 12696, 'clinic_name': \"Women's CenterforIntegrative Health\"},\n",
       " {'clinic_id': 12697, 'clinic_name': 'Eastern Urological Associates'}]"
      ]
     },
     "execution_count": 14,
     "metadata": {},
     "output_type": "execute_result"
    }
   ],
   "source": [
    "master_list"
   ]
  },
  {
   "cell_type": "code",
   "execution_count": 15,
   "id": "d3de9ebd",
   "metadata": {},
   "outputs": [],
   "source": [
    "import pandas as pd"
   ]
  },
  {
   "cell_type": "markdown",
   "id": "09c8fe17",
   "metadata": {},
   "source": [
    "*Convert our list of dictionaries into a Pandas data frame object.*"
   ]
  },
  {
   "cell_type": "code",
   "execution_count": 16,
   "id": "2ce27df1",
   "metadata": {},
   "outputs": [],
   "source": [
    "df = pd.DataFrame(master_list)"
   ]
  },
  {
   "cell_type": "code",
   "execution_count": 17,
   "id": "2098b5a4",
   "metadata": {},
   "outputs": [
    {
     "data": {
      "text/html": [
       "<div>\n",
       "<style scoped>\n",
       "    .dataframe tbody tr th:only-of-type {\n",
       "        vertical-align: middle;\n",
       "    }\n",
       "\n",
       "    .dataframe tbody tr th {\n",
       "        vertical-align: top;\n",
       "    }\n",
       "\n",
       "    .dataframe thead th {\n",
       "        text-align: right;\n",
       "    }\n",
       "</style>\n",
       "<table border=\"1\" class=\"dataframe\">\n",
       "  <thead>\n",
       "    <tr style=\"text-align: right;\">\n",
       "      <th></th>\n",
       "      <th>clinic_id</th>\n",
       "      <th>clinic_name</th>\n",
       "    </tr>\n",
       "  </thead>\n",
       "  <tbody>\n",
       "    <tr>\n",
       "      <th>0</th>\n",
       "      <td>12693</td>\n",
       "      <td>Altamonte Family Practice</td>\n",
       "    </tr>\n",
       "    <tr>\n",
       "      <th>1</th>\n",
       "      <td>12694</td>\n",
       "      <td>Open Health Care Clinic</td>\n",
       "    </tr>\n",
       "    <tr>\n",
       "      <th>2</th>\n",
       "      <td>12695</td>\n",
       "      <td>Dr. Richard Handelsman</td>\n",
       "    </tr>\n",
       "    <tr>\n",
       "      <th>3</th>\n",
       "      <td>12696</td>\n",
       "      <td>Women's CenterforIntegrative Health</td>\n",
       "    </tr>\n",
       "    <tr>\n",
       "      <th>4</th>\n",
       "      <td>12697</td>\n",
       "      <td>Eastern Urological Associates</td>\n",
       "    </tr>\n",
       "  </tbody>\n",
       "</table>\n",
       "</div>"
      ],
      "text/plain": [
       "   clinic_id                          clinic_name\n",
       "0      12693            Altamonte Family Practice\n",
       "1      12694              Open Health Care Clinic\n",
       "2      12695               Dr. Richard Handelsman\n",
       "3      12696  Women's CenterforIntegrative Health\n",
       "4      12697        Eastern Urological Associates"
      ]
     },
     "execution_count": 17,
     "metadata": {},
     "output_type": "execute_result"
    }
   ],
   "source": [
    "df"
   ]
  },
  {
   "cell_type": "markdown",
   "id": "914161fe",
   "metadata": {},
   "source": [
    "*Export data frame to a .csv file.*"
   ]
  },
  {
   "cell_type": "code",
   "execution_count": 18,
   "id": "01f2995f",
   "metadata": {},
   "outputs": [],
   "source": [
    "df.to_csv('clinic_data.csv', index = False)"
   ]
  }
 ],
 "metadata": {
  "kernelspec": {
   "display_name": "Python 3 (ipykernel)",
   "language": "python",
   "name": "python3"
  },
  "language_info": {
   "codemirror_mode": {
    "name": "ipython",
    "version": 3
   },
   "file_extension": ".py",
   "mimetype": "text/x-python",
   "name": "python",
   "nbconvert_exporter": "python",
   "pygments_lexer": "ipython3",
   "version": "3.11.5"
  }
 },
 "nbformat": 4,
 "nbformat_minor": 5
}
