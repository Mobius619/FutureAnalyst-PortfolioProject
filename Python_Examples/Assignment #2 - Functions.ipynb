{
 "cells": [
  {
   "cell_type": "code",
   "execution_count": 1,
   "id": "fb926983",
   "metadata": {},
   "outputs": [
    {
     "name": "stdout",
     "output_type": "stream",
     "text": [
      "1331\n"
     ]
    }
   ],
   "source": [
    "# -*- coding: utf-8 -*-\n",
    "\"\"\"\n",
    "Created on Tue Jan 16 11:52:31 2024\n",
    "\n",
    "@author: ramir\n",
    "\"\"\"\n",
    "\n",
    "# Assignment #2: \"Functions\"\n",
    "# Ramir Aguilo\n",
    "\n",
    "# Function that takes a string value and returns an integer\n",
    "def to_number(num_string):\n",
    "    int_form = int(num_string)\n",
    "    return int_form\n",
    "\n",
    "# Function that takes two integers and returns the sum\n",
    "def add_two(a, b):\n",
    "    nums_added = a + b\n",
    "    return nums_added\n",
    "\n",
    "# Function that takes a numeric value as a parameter, cubes that value\n",
    "# then returns the resulting numeric value\n",
    "def cube(num):\n",
    "    num_cubed = num ** 3\n",
    "    return(num_cubed)\n",
    "\n",
    "\n",
    "x = cube(add_two(to_number('5'), to_number('6')))\n",
    "x = print(x)\n",
    "\n"
   ]
  },
  {
   "cell_type": "code",
   "execution_count": null,
   "id": "93e52c95",
   "metadata": {},
   "outputs": [],
   "source": []
  }
 ],
 "metadata": {
  "kernelspec": {
   "display_name": "Python 3 (ipykernel)",
   "language": "python",
   "name": "python3"
  },
  "language_info": {
   "codemirror_mode": {
    "name": "ipython",
    "version": 3
   },
   "file_extension": ".py",
   "mimetype": "text/x-python",
   "name": "python",
   "nbconvert_exporter": "python",
   "pygments_lexer": "ipython3",
   "version": "3.11.5"
  }
 },
 "nbformat": 4,
 "nbformat_minor": 5
}
