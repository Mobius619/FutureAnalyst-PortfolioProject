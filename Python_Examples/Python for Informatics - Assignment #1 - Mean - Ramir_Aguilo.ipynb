{
 "cells": [
  {
   "cell_type": "markdown",
   "id": "d3db2a25",
   "metadata": {},
   "source": [
    "# Assignment #1 - \"Mean\""
   ]
  },
  {
   "cell_type": "markdown",
   "id": "dfdb7d6c",
   "metadata": {},
   "source": [
    "# Ramir Aguilo"
   ]
  },
  {
   "cell_type": "code",
   "execution_count": 1,
   "id": "08dc7f27",
   "metadata": {},
   "outputs": [
    {
     "name": "stdout",
     "output_type": "stream",
     "text": [
      "Please enter the first number:3.0\n"
     ]
    }
   ],
   "source": [
    "num1 = float(input('Please enter the first number:'))"
   ]
  },
  {
   "cell_type": "code",
   "execution_count": 2,
   "id": "b5748ef9",
   "metadata": {},
   "outputs": [
    {
     "name": "stdout",
     "output_type": "stream",
     "text": [
      "Please enter the second number:2.5\n"
     ]
    }
   ],
   "source": [
    "num2 = float(input('Please enter the second number:'))"
   ]
  },
  {
   "cell_type": "code",
   "execution_count": 3,
   "id": "aca341e7",
   "metadata": {},
   "outputs": [
    {
     "name": "stdout",
     "output_type": "stream",
     "text": [
      "Please enter the third number:3.83\n"
     ]
    }
   ],
   "source": [
    "num3 = float(input('Please enter the third number:'))"
   ]
  },
  {
   "cell_type": "code",
   "execution_count": 4,
   "id": "caa41d78",
   "metadata": {},
   "outputs": [
    {
     "name": "stdout",
     "output_type": "stream",
     "text": [
      "Please enter the fourth number:3.5\n"
     ]
    }
   ],
   "source": [
    "num4 = float(input('Please enter the fourth number:'))"
   ]
  },
  {
   "cell_type": "code",
   "execution_count": 5,
   "id": "452b870c",
   "metadata": {},
   "outputs": [
    {
     "name": "stdout",
     "output_type": "stream",
     "text": [
      "Please enter the fifth number:4.0\n"
     ]
    }
   ],
   "source": [
    "num5 = float(input('Please enter the fifth number:'))"
   ]
  },
  {
   "cell_type": "code",
   "execution_count": 6,
   "id": "16a8f71e",
   "metadata": {},
   "outputs": [],
   "source": [
    "mean = (num1 + num2 + num3 + num4 + num5) / 5"
   ]
  },
  {
   "cell_type": "code",
   "execution_count": 7,
   "id": "173337e9",
   "metadata": {},
   "outputs": [
    {
     "name": "stdout",
     "output_type": "stream",
     "text": [
      "The mean of those five numbers is  3.3659999999999997\n"
     ]
    }
   ],
   "source": [
    "print('The mean of those five numbers is ' , mean)"
   ]
  },
  {
   "cell_type": "code",
   "execution_count": null,
   "id": "546982e7",
   "metadata": {},
   "outputs": [],
   "source": []
  }
 ],
 "metadata": {
  "kernelspec": {
   "display_name": "Python 3 (ipykernel)",
   "language": "python",
   "name": "python3"
  },
  "language_info": {
   "codemirror_mode": {
    "name": "ipython",
    "version": 3
   },
   "file_extension": ".py",
   "mimetype": "text/x-python",
   "name": "python",
   "nbconvert_exporter": "python",
   "pygments_lexer": "ipython3",
   "version": "3.11.5"
  }
 },
 "nbformat": 4,
 "nbformat_minor": 5
}
